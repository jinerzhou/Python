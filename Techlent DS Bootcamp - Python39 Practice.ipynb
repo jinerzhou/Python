{
 "cells": [
  {
   "cell_type": "markdown",
   "id": "9e7dd8b0",
   "metadata": {},
   "source": [
    "## Techlent Data Science Bootcamp -  Python39 Practice \n"
   ]
  },
  {
   "cell_type": "code",
   "execution_count": 798,
   "id": "e3a97c53",
   "metadata": {},
   "outputs": [
    {
     "name": "stdout",
     "output_type": "stream",
     "text": [
      "Python rules!\n"
     ]
    }
   ],
   "source": [
    "r=\"rules!\"\n",
    "print(f'Python {r}')"
   ]
  },
  {
   "cell_type": "code",
   "execution_count": 3,
   "id": "f036be10",
   "metadata": {},
   "outputs": [
    {
     "data": {
      "text/plain": [
       "{'M', 'i', 'p', 's'}"
      ]
     },
     "execution_count": 3,
     "metadata": {},
     "output_type": "execute_result"
    }
   ],
   "source": [
    "s = set('Mississippi')\n",
    "s\n"
   ]
  },
  {
   "cell_type": "code",
   "execution_count": 749,
   "id": "226942cf",
   "metadata": {},
   "outputs": [
    {
     "data": {
      "text/plain": [
       "'C:\\\\Users\\\\jzhou01\\\\My Files\\\\Data Science\\\\Bootcamps\\\\Techlent'"
      ]
     },
     "execution_count": 749,
     "metadata": {},
     "output_type": "execute_result"
    }
   ],
   "source": [
    "pwd"
   ]
  },
  {
   "cell_type": "markdown",
   "id": "0e553a50",
   "metadata": {},
   "source": [
    "#### 1. Hello World\n",
    "Description:   \n",
    "Build a function HelloWorld which returns \"Hello World\".    \n",
    "\n",
    "Examples:    \n",
    "HelloWorld( ) return \"Hello World\"   "
   ]
  },
  {
   "cell_type": "code",
   "execution_count": 750,
   "id": "511c6fe1",
   "metadata": {},
   "outputs": [],
   "source": [
    "x=open('CreateTxtFile.txt',mode='w')\n",
    "x.write('Hello World')\n",
    "\n",
    "x=open('CreateTxtFile.txt',mode='r')\n",
    "x.seek(0)\n",
    "x.read()\n",
    "x.close()\n"
   ]
  },
  {
   "cell_type": "markdown",
   "id": "2b4a85d7",
   "metadata": {},
   "source": [
    "#### 2. Pound to Kilogram\n",
    "Description   \n",
    "Build a function LB2KG which takes a value in pound as input and returns the corresponding value in kilogram. One pound equals to 0.4536 kg.   \n",
    "\n",
    "Examples   \n",
    "LB2KG(1) returns 0.4536   "
   ]
  },
  {
   "cell_type": "code",
   "execution_count": 752,
   "id": "77722055",
   "metadata": {},
   "outputs": [
    {
     "name": "stdout",
     "output_type": "stream",
     "text": [
      "please enter pounds: 1\n"
     ]
    },
    {
     "data": {
      "text/plain": [
       "0.4536"
      ]
     },
     "execution_count": 752,
     "metadata": {},
     "output_type": "execute_result"
    }
   ],
   "source": [
    "def LB2KG ():\n",
    "    pounds = int(input(\"please enter pounds: \"))\n",
    "    kg = pounds * 0.4536\n",
    "    return kg\n",
    "\n",
    "LB2KG () "
   ]
  },
  {
   "cell_type": "markdown",
   "id": "92ef551e",
   "metadata": {},
   "source": [
    "#### 3. Odd Number\n",
    "Description   \n",
    "Build a function Odd which takes an integer as input and returns a boolin to tell whether the integer is odd or not.   \n",
    "\n",
    "Examples   \n",
    "Odd(3) returns True   \n",
    "Odd(4) returns False   "
   ]
  },
  {
   "cell_type": "code",
   "execution_count": 753,
   "id": "8dd2d841",
   "metadata": {},
   "outputs": [
    {
     "data": {
      "text/plain": [
       "'False'"
      ]
     },
     "execution_count": 753,
     "metadata": {},
     "output_type": "execute_result"
    }
   ],
   "source": [
    "def Odd (num):\n",
    "    if num % 2 == 0:\n",
    "        return \"False\"\n",
    "    else:\n",
    "        return \"True\"\n",
    "\n",
    "\n",
    "Odd(4)"
   ]
  },
  {
   "cell_type": "markdown",
   "id": "4a2f4e09",
   "metadata": {},
   "source": [
    "#### 4. FizzBuzz\n",
    "Description   \n",
    "Build a function FizzBuzz which takes a positive integer as input. If the number is divisible by 3, the function returns \"Fizz\". If the number is divisible by 5, the function returns \"Buzz\". If the number is divisible by both 3 and 5, the function returns \"FizzBuzz\". Otherwise, the function returns the number itself.    \n",
    "\n",
    "Examples   \n",
    "FizzBuzz(45) returns \"FizzBuzz\"      \n",
    "FizzBuzz(9) returns \"Fizz\"      \n",
    "FizzBuzz(25) returns \"Buzz\"      \n",
    "FizzBuzz(17) returns \"17\"      "
   ]
  },
  {
   "cell_type": "code",
   "execution_count": 755,
   "id": "068ebc88",
   "metadata": {},
   "outputs": [
    {
     "data": {
      "text/plain": [
       "'Fizz'"
      ]
     },
     "execution_count": 755,
     "metadata": {},
     "output_type": "execute_result"
    }
   ],
   "source": [
    "def FizzBuzz (num):\n",
    "    if num % 3 == 0 and num % 5 != 0:\n",
    "        return \"Fizz\"\n",
    "    elif num % 5 == 0 and num % 3 != 0:\n",
    "        return \"Buzz\"\n",
    "    elif num % 3 == 0 and num % 5 == 0:\n",
    "        return \"FizzBuzz\"\n",
    "    else:\n",
    "        return num\n",
    "\n",
    "FizzBuzz (9)\n"
   ]
  },
  {
   "cell_type": "markdown",
   "id": "e91b2167",
   "metadata": {},
   "source": [
    "#### 5.  Square Root\n",
    "Description   \n",
    "Build a function sqrt to calculate the square root of a positive integer number. If the result is not a integer, the function returns the nearest integer to the left of the result number.   \n",
    "\n",
    "Examples   \n",
    "sqrt(16) returns 4   \n",
    "sqrt(17) returns 4   \n",
    "sqrt(77) returns 8   \n",
    "sqrt(1) returns 1   "
   ]
  },
  {
   "cell_type": "code",
   "execution_count": 756,
   "id": "da0857e5",
   "metadata": {},
   "outputs": [
    {
     "data": {
      "text/plain": [
       "4"
      ]
     },
     "execution_count": 756,
     "metadata": {},
     "output_type": "execute_result"
    }
   ],
   "source": [
    "import math\n",
    "\n",
    "def sqrt(num):\n",
    "    result = math.sqrt(num)\n",
    "    # result = num ** 0.5\n",
    "    # return result % 2 \n",
    "    \n",
    "    if result % 2 == 0:\n",
    "        return int(result)\n",
    "    else:\n",
    "        return int(result) \n",
    "\n",
    "sqrt(16)\n"
   ]
  },
  {
   "cell_type": "markdown",
   "id": "f74b5f54",
   "metadata": {},
   "source": [
    "#### 6. List Comprehension\n",
    "Description   \n",
    "Build a function LstComp which takes two integers (i and j) as inputs and returns a list of numbers from i to j.   \n",
    "\n",
    "Examples   \n",
    "LstComp(1, 5) returns [1, 2, 3, 4, 5]   "
   ]
  },
  {
   "cell_type": "code",
   "execution_count": 759,
   "id": "da409615",
   "metadata": {},
   "outputs": [
    {
     "data": {
      "text/plain": [
       "[1, 2, 3, 4, 5]"
      ]
     },
     "execution_count": 759,
     "metadata": {},
     "output_type": "execute_result"
    }
   ],
   "source": [
    "def LstComp (i,j): \n",
    "    lst = []\n",
    "    for n in range(i,j+1):\n",
    "        lst.append(n)\n",
    "    return lst\n",
    "       \n",
    "LstComp (1,5)"
   ]
  },
  {
   "cell_type": "markdown",
   "id": "5bd5821c",
   "metadata": {},
   "source": [
    "#### 7. OddNums\n",
    "Description   \n",
    "Build a function OddNums which takes two integers (i and j) as inputs and returns a list of ODD numbers between i and j inclusively.   \n",
    "\n",
    "Examples    \n",
    "OddNums(1, 5) returns [1, 3, 5]    \n",
    "OddNums(2, 6) returns [3, 5]    \n",
    "OddNums(1, 2) returns [1]   "
   ]
  },
  {
   "cell_type": "code",
   "execution_count": 760,
   "id": "e862d52a",
   "metadata": {},
   "outputs": [
    {
     "data": {
      "text/plain": [
       "[1, 3, 5]"
      ]
     },
     "execution_count": 760,
     "metadata": {},
     "output_type": "execute_result"
    }
   ],
   "source": [
    "def OddNums (i,j):\n",
    "    lst = []\n",
    "    for n in range (i,j+1):\n",
    "        if n % 2 == 0: \n",
    "            pass\n",
    "        else:\n",
    "            lst.append(n)\n",
    "    return lst\n",
    "\n",
    "OddNums (1,5) "
   ]
  },
  {
   "cell_type": "markdown",
   "id": "6009ce50",
   "metadata": {},
   "source": [
    "#### 8. C2F\n",
    "Description    \n",
    "Build a function C2F which converts a list of temperatures in degrees from Celsius to Fahrenheit. F=C*1.8+32.   \n",
    "\n",
    "Examples   \n",
    "C2F([0, 38]) returns [32.0, 100.4]   "
   ]
  },
  {
   "cell_type": "code",
   "execution_count": 761,
   "id": "90579956",
   "metadata": {},
   "outputs": [
    {
     "data": {
      "text/plain": [
       "[32.0, 100.4]"
      ]
     },
     "execution_count": 761,
     "metadata": {},
     "output_type": "execute_result"
    }
   ],
   "source": [
    "def C2F (C):\n",
    "    F = []\n",
    "    for degrees in C:\n",
    "        F.append(degrees*1.8+32)\n",
    "    return F   \n",
    "\n",
    "C2F([0, 38])"
   ]
  },
  {
   "cell_type": "markdown",
   "id": "670d9511",
   "metadata": {},
   "source": [
    "#### 9. Fibonacci List\n",
    "Description   \n",
    "The Fibonacci List is the list of numbers: 0, 1, 1, 2, 3, 5, 8, 13, 21, 34, … The next number is generated by adding up the two numbers before it. Build a function FibLst which takes an integer n as input and returns an n-element Fibonacci List. If n is less than 1, returns -1.   \n",
    "\n",
    "Examples   \n",
    "FibLst(1) returns [0]   \n",
    "FibLst(3) returns [0, 1, 1]   \n",
    "FibLst(6) returns [0, 1, 1, 2, 3, 5]   \n",
    "FibLst(-3) returns -1   "
   ]
  },
  {
   "cell_type": "code",
   "execution_count": 762,
   "id": "099cbfb9",
   "metadata": {},
   "outputs": [
    {
     "data": {
      "text/plain": [
       "[0, 1, 1, 2, 3, 5]"
      ]
     },
     "execution_count": 762,
     "metadata": {},
     "output_type": "execute_result"
    }
   ],
   "source": [
    "def FibLst (num):\n",
    "    FList = []\n",
    "    if num < 0:\n",
    "        FList.append(-1)\n",
    "    elif num == 0 or num == 1:\n",
    "        FList.append(0)\n",
    "    else:\n",
    "        FList = [0,1] \n",
    "        for i in range (2,num):                       \n",
    "            FList.append(FList[i-1] + FList[i-2])            \n",
    "    return FList\n",
    "\n",
    "FibLst(6)"
   ]
  },
  {
   "cell_type": "markdown",
   "id": "0ec02fbe",
   "metadata": {},
   "source": [
    "#### 10. Reverse List\n",
    "Description   \n",
    "Build a function RevLst which reverses a list.   \n",
    "\n",
    "Examples   \n",
    "RevLst([3, 1, 9, 8, 4]) returns [4, 8, 9, 1, 3]   "
   ]
  },
  {
   "cell_type": "code",
   "execution_count": 763,
   "id": "4225cd92",
   "metadata": {},
   "outputs": [
    {
     "data": {
      "text/plain": [
       "[4, 8, 9, 1, 3]"
      ]
     },
     "execution_count": 763,
     "metadata": {},
     "output_type": "execute_result"
    }
   ],
   "source": [
    "def RevLst (lst):    \n",
    "    lst.reverse()\n",
    "    return lst    \n",
    "\n",
    "RevLst([3, 1, 9, 8, 4])\n"
   ]
  },
  {
   "cell_type": "markdown",
   "id": "056bafe9",
   "metadata": {},
   "source": [
    "#### 11. Whether an Element in the List\n",
    "Description   \n",
    "Build a function IsIn to tell whether a target element in a list.   \n",
    "\n",
    "Examples   \n",
    "IsIn([1, 2, 3, 4, 5], 2) returns True   \n",
    "IsIn([1, 2, 3, 4, 5], 6) returns False   "
   ]
  },
  {
   "cell_type": "code",
   "execution_count": 766,
   "id": "534bb281",
   "metadata": {},
   "outputs": [
    {
     "data": {
      "text/plain": [
       "True"
      ]
     },
     "execution_count": 766,
     "metadata": {},
     "output_type": "execute_result"
    }
   ],
   "source": [
    "def IsIn (lst, num):\n",
    "    for i in lst:\n",
    "        if i == num:\n",
    "            return True \n",
    "    return False\n",
    "\n",
    "IsIn([1, 2, 3, 4, 5], 2)\n"
   ]
  },
  {
   "cell_type": "code",
   "execution_count": 767,
   "id": "6a3d96c1",
   "metadata": {},
   "outputs": [
    {
     "data": {
      "text/plain": [
       "False"
      ]
     },
     "execution_count": 767,
     "metadata": {},
     "output_type": "execute_result"
    }
   ],
   "source": [
    "IsIn([1, 2, 3, 4, 5], 6)"
   ]
  },
  {
   "cell_type": "markdown",
   "id": "13aa42d8",
   "metadata": {},
   "source": [
    "#### 12. Remove an Element\n",
    "Description   \n",
    "Build a function RmEl to remove a target element from a list. If the target element appears in the list for multiple times, only remove the first one.   \n",
    "\n",
    "Examples   \n",
    "RmEl([1, 2, 3, 4, 5], 2) returns [1, 3, 4, 5]   \n",
    "RmEl([1, 2, 3, 4, 5], 6) returns [1, 2, 3, 4, 5]   \n",
    "RmEl([1, 2, 3, 3, 4, 5], 3) returns [1, 2, 3, 4, 5]   "
   ]
  },
  {
   "cell_type": "code",
   "execution_count": 769,
   "id": "40d1300b",
   "metadata": {},
   "outputs": [
    {
     "data": {
      "text/plain": [
       "[1, 2, 3, 3, 4, 5]"
      ]
     },
     "execution_count": 769,
     "metadata": {},
     "output_type": "execute_result"
    }
   ],
   "source": [
    "def RmEl (lst, num):\n",
    "    for i in lst:\n",
    "        if i == num:\n",
    "            lst.pop(i)            \n",
    "            # return lst\n",
    "            break\n",
    "        else:\n",
    "            return lst\n",
    "    return lst\n",
    "    \n",
    "RmEl([1, 2, 3, 3, 4, 5], 3)\n"
   ]
  },
  {
   "cell_type": "code",
   "execution_count": 90,
   "id": "12eb9e5b",
   "metadata": {},
   "outputs": [
    {
     "data": {
      "text/plain": [
       "[1, 2, 3, 4, 5]"
      ]
     },
     "execution_count": 90,
     "metadata": {},
     "output_type": "execute_result"
    }
   ],
   "source": [
    "RmEl([1, 2, 3, 4, 5], 6) "
   ]
  },
  {
   "cell_type": "code",
   "execution_count": 151,
   "id": "9ae511b1",
   "metadata": {},
   "outputs": [
    {
     "data": {
      "text/plain": [
       "[1, 2, 3, 4, 5]"
      ]
     },
     "execution_count": 151,
     "metadata": {},
     "output_type": "execute_result"
    }
   ],
   "source": [
    "def RmEl (lst, num):\n",
    "    for i in lst:\n",
    "        if i == num:\n",
    "            lst.pop(num-1)            \n",
    "            return lst     \n",
    "    return lst\n",
    "    \n",
    "RmEl([1, 2, 3, 3, 4, 5], 3)"
   ]
  },
  {
   "cell_type": "code",
   "execution_count": 152,
   "id": "eb70b0b9",
   "metadata": {},
   "outputs": [
    {
     "data": {
      "text/plain": [
       "[1, 2, 3, 4, 5]"
      ]
     },
     "execution_count": 152,
     "metadata": {},
     "output_type": "execute_result"
    }
   ],
   "source": [
    "RmEl([1, 2, 3, 4, 5], 6) "
   ]
  },
  {
   "cell_type": "code",
   "execution_count": 770,
   "id": "c6f21b70",
   "metadata": {},
   "outputs": [
    {
     "data": {
      "text/plain": [
       "[1, 2, 3, 4, 5]"
      ]
     },
     "execution_count": 770,
     "metadata": {},
     "output_type": "execute_result"
    }
   ],
   "source": [
    "RmEl([1, 2, 3, 4, 5], 2)"
   ]
  },
  {
   "cell_type": "markdown",
   "id": "85e34a3b",
   "metadata": {},
   "source": [
    "#### 13. Separate Numbers\n",
    "Description   \n",
    "Build a function SepNum which extracts the odd numbers from a given list ands append the odd numbers at the end of the list.   \n",
    "\n",
    "Examples   \n",
    "SepNum([1, 2, 3, 4, 5, 6]) returns [2, 4, 6, 1, 3, 5]   \n",
    "SepNum([1, 3, 5]) returns [1, 3, 5]   \n",
    "SepNum([2, 4, 6]) returns [2, 4, 6]   "
   ]
  },
  {
   "cell_type": "code",
   "execution_count": 772,
   "id": "5531642c",
   "metadata": {},
   "outputs": [
    {
     "data": {
      "text/plain": [
       "[2, 4, 6, 1, 3, 5]"
      ]
     },
     "execution_count": 772,
     "metadata": {},
     "output_type": "execute_result"
    }
   ],
   "source": [
    "def SepNum (lst):\n",
    "    Odd = []\n",
    "    Even = []\n",
    "    for num in lst:    \n",
    "        if num % 2 != 0: \n",
    "            Odd.append(num) \n",
    "        else:\n",
    "            Even.append(num)\n",
    "    return (Even + Odd)\n",
    "\n",
    "SepNum([1, 2, 3, 4, 5, 6]) "
   ]
  },
  {
   "cell_type": "code",
   "execution_count": 357,
   "id": "47168a76",
   "metadata": {},
   "outputs": [
    {
     "data": {
      "text/plain": [
       "[1, 3, 5]"
      ]
     },
     "execution_count": 357,
     "metadata": {},
     "output_type": "execute_result"
    }
   ],
   "source": [
    "SepNum([1, 3, 5])"
   ]
  },
  {
   "cell_type": "code",
   "execution_count": 773,
   "id": "bed39fe1",
   "metadata": {},
   "outputs": [
    {
     "data": {
      "text/plain": [
       "[2, 4, 6]"
      ]
     },
     "execution_count": 773,
     "metadata": {},
     "output_type": "execute_result"
    }
   ],
   "source": [
    "SepNum([2, 4, 6])"
   ]
  },
  {
   "cell_type": "markdown",
   "id": "70f7580c",
   "metadata": {},
   "source": [
    "#### 14. Remove Duplicates from a List\n",
    "Description   \n",
    "Build a function RmDuplicate which remove all the duplicates from a list.   \n",
    "\n",
    "Examples   \n",
    "RmDuplicate([3, 1, 2, 3, 4, 5, 6]) returns [1, 2, 3, 4, 5, 6]   \n",
    "RmDuplicate([1, 3, 5]) returns [1, 3, 5]   "
   ]
  },
  {
   "cell_type": "code",
   "execution_count": 360,
   "id": "143ae487",
   "metadata": {},
   "outputs": [
    {
     "data": {
      "text/plain": [
       "[1, 2, 3, 4, 5, 6]"
      ]
     },
     "execution_count": 360,
     "metadata": {},
     "output_type": "execute_result"
    }
   ],
   "source": [
    "def RmDuplicate (ls):\n",
    "    return list(set(ls))\n",
    "        \n",
    "RmDuplicate([3, 1, 2, 3, 4, 5, 6])"
   ]
  },
  {
   "cell_type": "code",
   "execution_count": 372,
   "id": "02c32213",
   "metadata": {},
   "outputs": [
    {
     "data": {
      "text/plain": [
       "[3, 1, 2, 4, 5, 6]"
      ]
     },
     "execution_count": 372,
     "metadata": {},
     "output_type": "execute_result"
    }
   ],
   "source": [
    "def RmDuplicate (ls):    \n",
    "    return list(dict.fromkeys(ls))\n",
    "    \n",
    "RmDuplicate([3, 1, 2, 3, 4, 5, 6])"
   ]
  },
  {
   "cell_type": "code",
   "execution_count": 774,
   "id": "38012a62",
   "metadata": {},
   "outputs": [
    {
     "name": "stdout",
     "output_type": "stream",
     "text": [
      "['a', 'b', 'c']\n"
     ]
    }
   ],
   "source": [
    "mylist = [\"a\", \"b\", \"a\", \"c\", \"c\"]\n",
    "mylist = list(dict.fromkeys(mylist))\n",
    "print(mylist)"
   ]
  },
  {
   "cell_type": "markdown",
   "id": "589abb95",
   "metadata": {},
   "source": [
    "#### 15. Sort a List\n",
    "Description   \n",
    "Build a function SortLst which sorts a list. At this time you can just use the built-in function in Python.   \n",
    "\n",
    "Examples   \n",
    "SortLst([4, 2, 1, 3, 4, 5]) returns [1, 2, 3, 4, 4, 5]   \n",
    "SortLst([1, 3, 5]) returns [1, 3, 5]   "
   ]
  },
  {
   "cell_type": "code",
   "execution_count": 775,
   "id": "bfb431af",
   "metadata": {},
   "outputs": [
    {
     "data": {
      "text/plain": [
       "[1, 2, 4]"
      ]
     },
     "execution_count": 775,
     "metadata": {},
     "output_type": "execute_result"
    }
   ],
   "source": [
    "def SortLst (ls):\n",
    "    ls.sort()   \n",
    "    return ls\n",
    "SortLst([4, 2, 1])"
   ]
  },
  {
   "cell_type": "markdown",
   "id": "a145da25",
   "metadata": {},
   "source": [
    "#### 16. Insert a Number in a Sorted List\n",
    "Description   \n",
    "Build a function NumInsert which inserts a number in a sorted list.   \n",
    "\n",
    "Examples   \n",
    "NumInsert([1, 2, 3, 4, 5, 6], 3) returns [1, 2, 3, 3, 4, 5, 6]   \n",
    "NumInsert([1, 2, 3, 4, 5, 6], 7) returns [1, 2, 3, 4, 5, 6, 7]   \n",
    "NumInsert([1, 2, 3, 4, 5, 6], -1) returns [-1, 1, 2, 3, 4, 5, 6]   "
   ]
  },
  {
   "cell_type": "code",
   "execution_count": 776,
   "id": "735d1187",
   "metadata": {},
   "outputs": [
    {
     "data": {
      "text/plain": [
       "[1, 2, 3, 3, 4, 5, 6]"
      ]
     },
     "execution_count": 776,
     "metadata": {},
     "output_type": "execute_result"
    }
   ],
   "source": [
    "def NumInsert (lst, num):\n",
    "    lst.append(num)\n",
    "    lst.sort() \n",
    "    return lst\n",
    "      \n",
    "NumInsert([1, 2, 3, 4, 5, 6], 3)"
   ]
  },
  {
   "cell_type": "markdown",
   "id": "b6b2e1d4",
   "metadata": {},
   "source": [
    "#### 17. Remove duplicates from a sorted list\n",
    "Description    \n",
    "Build a function SortRm which removes duplicate numbers in a sorted list.   \n",
    "\n",
    "Examples   \n",
    "SortRm([1, 2, 2, 3, 4, 4, 5, 6]) returns [1, 2, 3, 4, 5, 6]   \n",
    "SortRm([1, 2, 3, 4, 5, 6]) returns [1, 2, 3, 4, 5, 6]   "
   ]
  },
  {
   "cell_type": "code",
   "execution_count": 778,
   "id": "e612c887",
   "metadata": {},
   "outputs": [
    {
     "data": {
      "text/plain": [
       "[1, 2, 3, 4, 5, 6]"
      ]
     },
     "execution_count": 778,
     "metadata": {},
     "output_type": "execute_result"
    }
   ],
   "source": [
    "def SortRm  (lst):\n",
    "    return list(set(lst))\n",
    "\n",
    "SortRm([1, 2, 2, 3, 4, 4, 5, 6])"
   ]
  },
  {
   "cell_type": "markdown",
   "id": "dead9292",
   "metadata": {},
   "source": [
    "#### 18. Merge Two Sorted Lists\n",
    "Description   \n",
    "Build a function MergeSorted which merges two sorted lists as one sorted list.   \n",
    "\n",
    "Examples   \n",
    "MergeSorted([1, 3, 5], [2, 4, 6]) returns [1, 2, 3, 4, 5, 6]   \n",
    "MergeSorted([1, 2, 3], [4, 5, 6]) returns [1, 2, 3, 4, 5, 6]   "
   ]
  },
  {
   "cell_type": "code",
   "execution_count": 779,
   "id": "37e99887",
   "metadata": {},
   "outputs": [
    {
     "data": {
      "text/plain": [
       "[1, 2, 3, 4, 5, 6]"
      ]
     },
     "execution_count": 779,
     "metadata": {},
     "output_type": "execute_result"
    }
   ],
   "source": [
    "def MergeSorted (lst1, lst2):\n",
    "    return list(set(lst1 + lst2))\n",
    "\n",
    "MergeSorted([1, 2, 3], [4, 5, 6])"
   ]
  },
  {
   "cell_type": "markdown",
   "id": "1769cced",
   "metadata": {},
   "source": [
    "#### 19. List to Number\n",
    "Description   \n",
    "Build a function Lst2Num which convert a number list into one number.   \n",
    "\n",
    "Examples   \n",
    "Lst2Num([1, 3, 5]) returns 135   \n",
    "Lst2Num([0, 1, 2, 0, 3]) returns 1203   "
   ]
  },
  {
   "cell_type": "code",
   "execution_count": 489,
   "id": "8cccc9f8",
   "metadata": {},
   "outputs": [
    {
     "data": {
      "text/plain": [
       "1203"
      ]
     },
     "execution_count": 489,
     "metadata": {},
     "output_type": "execute_result"
    }
   ],
   "source": [
    "def Lst2Num (lst):      \n",
    "    res = sum(d * 10**i for i, d in enumerate(lst[::-1]))      \n",
    "    return(res)\n",
    "    \n",
    "Lst2Num([0, 1, 2, 0, 3])\n"
   ]
  },
  {
   "cell_type": "code",
   "execution_count": 467,
   "id": "6277be82",
   "metadata": {},
   "outputs": [],
   "source": [
    "  "
   ]
  },
  {
   "cell_type": "code",
   "execution_count": 488,
   "id": "334c0a96",
   "metadata": {},
   "outputs": [
    {
     "data": {
      "text/plain": [
       "123"
      ]
     },
     "execution_count": 488,
     "metadata": {},
     "output_type": "execute_result"
    }
   ],
   "source": [
    "# Python3 program to convert a list\n",
    "# of integers into a single integer\n",
    "def convert(list):\n",
    "      \n",
    "    # multiply each integer element with its \n",
    "    # corresponding power and perform summation  \n",
    "    res = sum(d * 10**i for i, d in enumerate(list[::-1]))      \n",
    "    return(res)\n",
    "  \n",
    "convert([1, 2, 3])\n"
   ]
  },
  {
   "cell_type": "code",
   "execution_count": 478,
   "id": "50435c94",
   "metadata": {},
   "outputs": [
    {
     "name": "stdout",
     "output_type": "stream",
     "text": [
      "123\n"
     ]
    }
   ],
   "source": [
    "  # Python3 program to convert a list\n",
    "# of integers into a single integer\n",
    "def convert(list):\n",
    "      \n",
    "    # Converting integer list to string list\n",
    "    # and joining the list using join()\n",
    "    res = int(\"\".join(map(str, list)))\n",
    "      \n",
    "    return res\n",
    "  \n",
    "# Driver code\n",
    "list = [1, 2, 3]\n",
    "print(convert(list))"
   ]
  },
  {
   "cell_type": "code",
   "execution_count": 479,
   "id": "98756916",
   "metadata": {},
   "outputs": [
    {
     "name": "stdout",
     "output_type": "stream",
     "text": [
      "123\n"
     ]
    }
   ],
   "source": [
    "\n",
    "# Python3 program to convert a list\n",
    "# of integers into a single integer\n",
    "def convert(list):\n",
    "      \n",
    "    # Converting integer list to string list\n",
    "    s = [str(i) for i in list]\n",
    "      \n",
    "    # Join list items using join()\n",
    "    res = int(\"\".join(s))\n",
    "      \n",
    "    return(res)\n",
    "  \n",
    "# Driver code\n",
    "list = [1, 2, 3]\n",
    "print(convert(list))"
   ]
  },
  {
   "cell_type": "code",
   "execution_count": 780,
   "id": "ef4b1b62",
   "metadata": {},
   "outputs": [
    {
     "name": "stdout",
     "output_type": "stream",
     "text": [
      "121517"
     ]
    }
   ],
   "source": [
    "# Python3 program to convert a list\n",
    "# of integers into a single integer\n",
    "  \n",
    "# creating a list\n",
    "lst = [12, 15, 17]\n",
    "  \n",
    "# iterating each element\n",
    "for i in lst:\n",
    "    print(i, end=\"\")"
   ]
  },
  {
   "cell_type": "markdown",
   "id": "7112b407",
   "metadata": {},
   "source": [
    "#### 20. Maximum Stock Gain\n",
    "Description   \n",
    "Build a function MaxGain to find the maximum you can gain by buying and selling stocks. The strock prices represented as a list of numbers. You need to buy stocks before you sell them.   \n",
    "\n",
    "Examples   \n",
    "MaxGain([3, 4, 1, 5, 7, 2]) returns 6 --Explanation: Buy stocks when the price is 1 and sell them when the price is 7.   \n",
    "MaxGain([5, 4, 3, 2, 1]) returns 0   "
   ]
  },
  {
   "cell_type": "code",
   "execution_count": 781,
   "id": "0b927194",
   "metadata": {},
   "outputs": [
    {
     "data": {
      "text/plain": [
       "0"
      ]
     },
     "execution_count": 781,
     "metadata": {},
     "output_type": "execute_result"
    }
   ],
   "source": [
    "def MaxGain (lst):\n",
    "    if lst.index(max(lst)) > lst.index(min(lst)):\n",
    "        gain = max(lst) - min(lst)\n",
    "    else:\n",
    "        gain = 0\n",
    "        \n",
    "    return gain\n",
    "\n",
    "MaxGain([3, 4, 1, 5, 7, 2])\n",
    "MaxGain([5, 4, 3, 2, 1])"
   ]
  },
  {
   "cell_type": "markdown",
   "id": "8a3ea3a4",
   "metadata": {},
   "source": [
    "#### 21. Sort List of Lists\n",
    "Description   \n",
    "Build a function SortLL which sorts a list of lists by their last elements.   \n",
    "\n",
    "Examples   \n",
    "SortLL([[1, 3, 5], [2, 4], [9, 7], [3]]) returns [[3], [2, 4], [1, 3, 5], [9, 7]]   "
   ]
  },
  {
   "cell_type": "code",
   "execution_count": 783,
   "id": "1747f4fb",
   "metadata": {},
   "outputs": [
    {
     "data": {
      "text/plain": [
       "[[3], [2, 4], [1, 3, 5], [9, 7]]"
      ]
     },
     "execution_count": 783,
     "metadata": {},
     "output_type": "execute_result"
    }
   ],
   "source": [
    "def SortLL (lst):      \n",
    "    mylist = sorted(lst, key=lambda x: x[-1])    \n",
    "    return mylist   \n",
    "\n",
    "SortLL([[1, 3, 5], [2, 4], [9, 7], [3]])"
   ]
  },
  {
   "cell_type": "code",
   "execution_count": 782,
   "id": "3ea0bb60",
   "metadata": {},
   "outputs": [
    {
     "data": {
      "text/plain": [
       "[[3], [2, 4], [1, 3, 5], [9, 7]]"
      ]
     },
     "execution_count": 782,
     "metadata": {},
     "output_type": "execute_result"
    }
   ],
   "source": [
    "lis = [[1, 3, 5], [2, 4], [9, 7], [3]]\n",
    "sorted(lis, key=lambda x: x[-1])\n"
   ]
  },
  {
   "cell_type": "markdown",
   "id": "ac91f97e",
   "metadata": {},
   "source": [
    "#### 22. Pascals Triangle\n",
    "Description   \n",
    "Build a function PascalsT which takes an integer n as an input and generate a n layer Pascals Triangle.   \n",
    "\n",
    "Examples   \n",
    "PascalsT(3) returns [[1], [1, 1], [1, 2, 1]]   \n",
    "PascalsT(5) returns [[1], [1, 1], [1, 2, 1], [1, 3, 3, 1], [1, 4, 6, 4, 1]]   "
   ]
  },
  {
   "cell_type": "code",
   "execution_count": 80,
   "id": "45d702ce",
   "metadata": {},
   "outputs": [
    {
     "data": {
      "text/plain": [
       "[[1], [1, 1], [1, 2, 1], [1, 3, 3, 1], [1, 4, 6, 4, 1]]"
      ]
     },
     "execution_count": 80,
     "metadata": {},
     "output_type": "execute_result"
    }
   ],
   "source": [
    "# My solution 1\n",
    "def pascalsTriangle(n):\n",
    "    lst = []                                 # create a outter list\n",
    "    for row in range(n):                     # row range from 0 to n-1. for n=5, row is (0,1,2,3,4)\n",
    "        tempLst = []                         # create a temp innter list\n",
    "        \n",
    "        for col in range(row + 1):           # column range from 0 to row. for range(0,row+1), col is (0,1,...row)            \n",
    "            if col == 0 or col == row:       # first and lst number in each row is 1     \n",
    "                tempLst.append(1)                 \n",
    "            else:                            # number = adding 2 numbers in a row above\n",
    "                tempLst.append(lst[row-1][col-1] + lst[row-1][col])\n",
    "                \n",
    "        lst.append(tempLst)\n",
    "        \n",
    "    return lst\n",
    "\n",
    "pascalsTriangle(5)      \n",
    "        \n"
   ]
  },
  {
   "cell_type": "code",
   "execution_count": 19,
   "id": "10809850",
   "metadata": {},
   "outputs": [
    {
     "name": "stdout",
     "output_type": "stream",
     "text": [
      "    [1] \n",
      "   [1, 1] \n",
      "  [1, 2, 1] \n",
      " [1, 3, 3, 1] \n",
      "[1, 4, 6, 4, 1] \n"
     ]
    }
   ],
   "source": [
    "# My solution 2\n",
    "def pascalsTriangle(n):\n",
    "    lst = []                                 # create a outter list\n",
    "    for row in range(n):                     # row range from 0 to n-1. for n=5, row is (0,1,2,3,4)\n",
    "        tempLst = []                         # create a temp innter list\n",
    "        \n",
    "        for col in range(row + 1):           # column range from 0 to row. for range(0,row+1), col is (0,1,...row)            \n",
    "            if col == 0 or col == row:       # first and lst number in each row is 1     \n",
    "                tempLst.append(1)                 \n",
    "            else:                            # number = adding 2 numbers in a row above\n",
    "                tempLst.append(lst[row-1][col-1] + lst[row-1][col])\n",
    "                \n",
    "        lst.append(tempLst)\n",
    "        \n",
    "        #''''''''''''''''''''''''''''''''''''''''''''''''''''''\n",
    "        # Adding Trangle shape with this list\n",
    "        #''''''''''''''''''''''''''''''''''''''''''''''''''''''\n",
    "        # add blank space in each row\n",
    "        for col in range(n-row-1):\n",
    "            print(\" \", end=\"\")\n",
    "\n",
    "        # place each number into the trangle   \n",
    "        print(tempLst, end=\" \")\n",
    "        print()  \n",
    "        \n",
    "\n",
    "pascalsTriangle(5)   \n",
    "        "
   ]
  },
  {
   "cell_type": "code",
   "execution_count": 42,
   "id": "9d3dabe7",
   "metadata": {},
   "outputs": [
    {
     "name": "stdout",
     "output_type": "stream",
     "text": [
      "                  1   \n",
      "                1   1   \n",
      "              1   2   1   \n",
      "            1   3   3   1   \n",
      "          1   4   6   4   1   \n",
      "        1   5   10  10  5   1   \n",
      "      1   6   15  20  15  6   1   \n",
      "    1   7   21  35  35  21  7   1   \n",
      "  1   8   28  56  70  56  28  8   1   \n",
      "1   9   36  84  126 126 84  36  9   1   \n"
     ]
    }
   ],
   "source": [
    "# My solution 3\n",
    "def pascalsTriangle(n):\n",
    "    lst = []                                 # create a outter list\n",
    "    for row in range(n):                     # row range from 0 to n-1. for n=5, row is (0,1,2,3,4)\n",
    "        tempLst = []                         # create a temp innter list\n",
    "        \n",
    "        for col in range(row + 1):           # column range from 0 to row. for range(0,row+1), col is (0,1,...row)            \n",
    "            if col == 0 or col == row:       # first and lst number in each row is 1     \n",
    "                tempLst.append(1)                 \n",
    "            else:                            # number = adding 2 numbers in a row above\n",
    "                tempLst.append(lst[row-1][col-1] + lst[row-1][col])\n",
    "                \n",
    "        lst.append(tempLst)      \n",
    "#     print(lst)\n",
    "    \n",
    "    ''''''''''''''''''''''''''''''''''''''\n",
    "    # Adding Trangle shape with this list\n",
    "    ''''''''''''''''''''''''''''''''''''''\n",
    "    for row in range(n):\n",
    "        # add blank space in each row\n",
    "        for col in range(n-row-1):\n",
    "            print(format(\" \",\"<2\"), end=\"\")\n",
    "\n",
    "        # place each number into the trangle\n",
    "        for col in range(row+1):\n",
    "            print(format(lst[row][col], \"<4\"), end=\"\")\n",
    "        print()\n",
    "    \n",
    "\n",
    "pascalsTriangle(10)   "
   ]
  },
  {
   "cell_type": "code",
   "execution_count": 791,
   "id": "c4eaa454",
   "metadata": {},
   "outputs": [
    {
     "data": {
      "text/plain": [
       "[[1], [1, 1], [1, 2, 1], [1, 3, 3, 1], [1, 4, 6, 4, 1]]"
      ]
     },
     "execution_count": 791,
     "metadata": {},
     "output_type": "execute_result"
    }
   ],
   "source": [
    "def pascalsTriangle(n): \n",
    "    tree = [[1]] #first row is always just 1\n",
    "    for x in range(1, n): #for every other row:\n",
    "        m = [1] #it always starts with 1\n",
    "        for y in range(1, x): #for all the others:\n",
    "            m.append(tree[x-1][y-1] + tree[x-1][y]) #work out what the number is\n",
    "        m.append(1) #it always ends in 1\n",
    "        tree.append(m) #add the row on\n",
    "    return tree\n",
    "\n",
    "pascalsTriangle(5)"
   ]
  },
  {
   "cell_type": "code",
   "execution_count": 573,
   "id": "29f6b3cd",
   "metadata": {},
   "outputs": [
    {
     "data": {
      "text/plain": [
       "[[1], [1, 1], [1, 2, 1], [1, 3, 3, 1], [1, 4, 6, 4, 1]]"
      ]
     },
     "execution_count": 573,
     "metadata": {},
     "output_type": "execute_result"
    }
   ],
   "source": [
    "def pascalsTriangle(n):   \n",
    "    triangle = []\n",
    "    row = []\n",
    "    prev_row = []\n",
    "    for i in range(0, n + 1):\n",
    "        row = [j > 0 and j < i - 1 and i > 2 and \n",
    "               prev_row[j-1] + prev_row[j] or 1 for j in range(0, i)]\n",
    "        prev_row = row\n",
    "        triangle += [row]\n",
    "    return triangle[1:]\n",
    "\n",
    "pascalsTriangle(5)"
   ]
  },
  {
   "cell_type": "code",
   "execution_count": 533,
   "id": "5d279d20",
   "metadata": {},
   "outputs": [
    {
     "name": "stdout",
     "output_type": "stream",
     "text": [
      "Number of iterations: 6\n",
      "[1]\n",
      "[1, 1]\n",
      "[1, 2, 1]\n",
      "[1, 3, 3, 1]\n",
      "[1, 4, 6, 4, 1]\n",
      "[1, 5, 10, 10, 5, 1]\n",
      "[1, 6, 15, 20, 15, 6, 1]\n"
     ]
    }
   ],
   "source": [
    "pascal = [[1]]\n",
    "num = int(input(\"Number of iterations: \"))\n",
    "print(pascal[0]) # the very first row\n",
    "for i in range(1,num+1):\n",
    "    pascal.append([1]) # start off with 1\n",
    "    for j in range(len(pascal[i-1])-1):\n",
    "    # the number of times we need to run this loop is (# of elements in the row above)-1\n",
    "        pascal[i].append(pascal[i-1][j]+pascal[i-1][j+1])\n",
    "        # add two adjacent numbers of the row above together\n",
    "    pascal[i].append(1) # and cap it with 1\n",
    "    print(pascal[i])"
   ]
  },
  {
   "cell_type": "code",
   "execution_count": 784,
   "id": "411d64ac",
   "metadata": {},
   "outputs": [
    {
     "name": "stdout",
     "output_type": "stream",
     "text": [
      "     \n",
      "    1 \n",
      "   1 1 \n",
      "  1 2 1 \n",
      " 1 3 3 1 \n",
      "1 4 6 4 1 \n"
     ]
    }
   ],
   "source": [
    "# Pascal's Triangle in Python \n",
    "\n",
    "# To solve this, we will follow these steps −\n",
    "# for i in range 0 to n+1, do\n",
    "# for j in range 0 to n-i, do\n",
    "# print one blank space\n",
    "# C := 1\n",
    "# for j in range 1 to i+1, do\n",
    "# print C then a single blank space\n",
    "# C := quotient of (C *(i - j) / j)\n",
    "# go to next line\n",
    "\n",
    "def solve(n):\n",
    "   for i in range(n+1):\n",
    "      for j in range(n-i):\n",
    "         print(' ', end='')\n",
    "\n",
    "      C = 1\n",
    "      for j in range(1, i+1):\n",
    "         print(C, ' ', sep='', end='')\n",
    "         C = C * (i - j) // j\n",
    "      print()\n",
    "\n",
    "n = 5\n",
    "solve(n)\n",
    "\n"
   ]
  },
  {
   "cell_type": "code",
   "execution_count": 788,
   "id": "3cc0ff8e",
   "metadata": {},
   "outputs": [
    {
     "name": "stdout",
     "output_type": "stream",
     "text": [
      "C:/Users/jzhou01/My Files/Data Science/Titanic Dataset/Data Input/test.csv\n",
      "C:/Users/jzhou01/My Files/Data Science/Titanic Dataset/Data Input/train.csv\n",
      "C:/Users/jzhou01/My Files/Data Science/Boot Camps/The Data Incubator Bootcamp/Coding Challenge\n"
     ]
    }
   ],
   "source": [
    "#Convert backward slash to forward slash in python\n",
    "\n",
    "import os \n",
    "\n",
    "pathA = r'C:\\Users\\jzhou01\\My Files\\Data Science\\Titanic Dataset\\Data Input\\test.csv'\n",
    "newpathA = pathA.replace(os.sep,'/')\n",
    "print(newpathA)\n",
    "\n",
    "pathA = r'C:\\Users\\jzhou01\\My Files\\Data Science\\Titanic Dataset\\Data Input\\train.csv'\n",
    "newpathA = pathA.replace(os.sep,'/')\n",
    "print(newpathA)\n",
    "\n",
    "pathA = r'C:\\Users\\jzhou01\\My Files\\Data Science\\Boot Camps\\The Data Incubator Bootcamp\\Coding Challenge'\n",
    "newpathA = pathA.replace(os.sep,'/')\n",
    "print(newpathA)\n"
   ]
  },
  {
   "cell_type": "markdown",
   "id": "4eaf0f77",
   "metadata": {},
   "source": [
    "#### 23.  All Red\n",
    "Description   \n",
    "Build a function AllRed that takes a list of strings as input, returns a boolean indicating whether all the strings containing word \"red\".   \n",
    "\n",
    "Examples   \n",
    "AllRed([\"red hat\", \"a pair of red shoes\", \"three red apples\"]) returns True   \n",
    "AllRed([\"red hat\", \"white shirt\", \"black eyes\"]) returns False   \n",
    "AllRed([]) returns False   "
   ]
  },
  {
   "cell_type": "code",
   "execution_count": 104,
   "id": "8d4b4f34",
   "metadata": {},
   "outputs": [
    {
     "data": {
      "text/plain": [
       "True"
      ]
     },
     "execution_count": 104,
     "metadata": {},
     "output_type": "execute_result"
    }
   ],
   "source": [
    "def AllRed (lst):\n",
    "    bl = False\n",
    "    for item in lst:        \n",
    "#         print (item.lower().split())  \n",
    "        for i in item.split(): \n",
    "            if i == 'red':\n",
    "                bl = True\n",
    "                break\n",
    "            else:\n",
    "                bl = False\n",
    "#         print(bl)\n",
    "    return bl\n",
    "\n",
    "AllRed([\"red hat\", \"a pair of red shoes\", \"three red apples\"]) "
   ]
  },
  {
   "cell_type": "code",
   "execution_count": 65,
   "id": "298bb586",
   "metadata": {},
   "outputs": [
    {
     "data": {
      "text/plain": [
       "False"
      ]
     },
     "execution_count": 65,
     "metadata": {},
     "output_type": "execute_result"
    }
   ],
   "source": [
    "AllRed([\"red hat\", \"white shirt\", \"black eyes\"]) \n"
   ]
  },
  {
   "cell_type": "code",
   "execution_count": 793,
   "id": "e4f27ab8",
   "metadata": {},
   "outputs": [
    {
     "data": {
      "text/plain": [
       "False"
      ]
     },
     "execution_count": 793,
     "metadata": {},
     "output_type": "execute_result"
    }
   ],
   "source": [
    "AllRed([])"
   ]
  },
  {
   "cell_type": "markdown",
   "id": "e3be2464",
   "metadata": {},
   "source": [
    "#### 24. Reverse String\n",
    "Description   \n",
    "Build a function RevStr to reverse a string.   \n",
    "\n",
    "Examples   \n",
    "RevStr(\"abcd\") returns \"dcba\"   "
   ]
  },
  {
   "cell_type": "code",
   "execution_count": 792,
   "id": "d522a5cb",
   "metadata": {},
   "outputs": [
    {
     "data": {
      "text/plain": [
       "'dcba'"
      ]
     },
     "execution_count": 792,
     "metadata": {},
     "output_type": "execute_result"
    }
   ],
   "source": [
    "def RevStr (strg):\n",
    "    return strg[::-1]\n",
    "    \n",
    "RevStr(\"abcd\")\n"
   ]
  },
  {
   "cell_type": "markdown",
   "id": "c28185c5",
   "metadata": {},
   "source": [
    "#### 25. Reverse Sentence\n",
    "Description   \n",
    "Build a function RevSen to reverse a sentence.   \n",
    "\n",
    "Examples   \n",
    "RevSen(\"we are all friends\") returns \"friends all are we”   "
   ]
  },
  {
   "cell_type": "code",
   "execution_count": 794,
   "id": "5624240c",
   "metadata": {},
   "outputs": [
    {
     "data": {
      "text/plain": [
       "'friends all are we'"
      ]
     },
     "execution_count": 794,
     "metadata": {},
     "output_type": "execute_result"
    }
   ],
   "source": [
    "def RevSen (strn):\n",
    "    st = strn.split()[::-1]   \n",
    "    s = ' '.join(st)\n",
    "    return s\n",
    "    \n",
    "RevSen(\"we are all friends\")   "
   ]
  },
  {
   "cell_type": "markdown",
   "id": "cf5c119b",
   "metadata": {},
   "source": [
    "#### 26. Reverse Words\n",
    "Description   \n",
    "Build a function RevWords to reverse each word of a sentence.   \n",
    "\n",
    "Examples   \n",
    "RevWords(\"we are all friends\") returns \"ew era lla sdneirf\"   "
   ]
  },
  {
   "cell_type": "code",
   "execution_count": 189,
   "id": "a99d16e7",
   "metadata": {},
   "outputs": [
    {
     "data": {
      "text/plain": [
       "'we are all friends'"
      ]
     },
     "execution_count": 189,
     "metadata": {},
     "output_type": "execute_result"
    }
   ],
   "source": [
    "def RevWords (strn):      \n",
    "    st = strn.split()\n",
    "    st2 = []\n",
    "    for i in st:\n",
    "        st2.append(i[::-1])  \n",
    "        \n",
    "    s = ' '.join(st2)\n",
    "    return s\n",
    "\n",
    "RevWords(\"we are all friends\")"
   ]
  },
  {
   "cell_type": "code",
   "execution_count": 795,
   "id": "5f4a68d9",
   "metadata": {},
   "outputs": [
    {
     "name": "stdout",
     "output_type": "stream",
     "text": [
      "[9, 7, 4, 2]\n"
     ]
    }
   ],
   "source": [
    "lst = [2,4,7,9]\n",
    "lst.reverse()\n",
    "print(lst)\n"
   ]
  },
  {
   "cell_type": "markdown",
   "id": "39f90a66",
   "metadata": {},
   "source": [
    "#### 27. Capitalize First Letters\n",
    "Description   \n",
    "Build a function CapLett to capitalize the first letter of each word in a sentence.   \n",
    " \n",
    "Examples   \n",
    "CapLett(\"we are all friends\") returns \"We Are All Friends\"   "
   ]
  },
  {
   "cell_type": "code",
   "execution_count": 199,
   "id": "1aad93f9",
   "metadata": {},
   "outputs": [
    {
     "data": {
      "text/plain": [
       "'We Are All Friends'"
      ]
     },
     "execution_count": 199,
     "metadata": {},
     "output_type": "execute_result"
    }
   ],
   "source": [
    "def CapLett (strn):\n",
    "    s = ' '.join(strn[0].upper() + strn[1:] for strn in strn.split())  \n",
    "    return s    \n",
    "\n",
    "\n",
    "CapLett(\"we are all friends\")"
   ]
  },
  {
   "cell_type": "code",
   "execution_count": 796,
   "id": "b47caf10",
   "metadata": {},
   "outputs": [
    {
     "data": {
      "text/plain": [
       "'We Are All Friends'"
      ]
     },
     "execution_count": 796,
     "metadata": {},
     "output_type": "execute_result"
    }
   ],
   "source": [
    "def CapLett (strn):\n",
    "    return strn.title() \n",
    "\n",
    "CapLett(\"we are all friends\")"
   ]
  },
  {
   "cell_type": "markdown",
   "id": "492b7396",
   "metadata": {},
   "source": [
    "#### 28. Remove Punctuations\n",
    "Description   \n",
    "Build a function RmPunct to remove punctuations from a string.   \n",
    "\n",
    "Examples   \n",
    "RmPunct(\"He said, that is great!!\") returns \"He said that is great\"   "
   ]
  },
  {
   "cell_type": "code",
   "execution_count": 203,
   "id": "afbe86b5",
   "metadata": {},
   "outputs": [
    {
     "data": {
      "text/plain": [
       "'He said that is great'"
      ]
     },
     "execution_count": 203,
     "metadata": {},
     "output_type": "execute_result"
    }
   ],
   "source": [
    "# remove punctuation from a string\n",
    "import re\n",
    "def RmPunct (strn):\n",
    "    res = re.sub(r'[^\\w\\s]', '', strn)\n",
    "    return res\n",
    "\n",
    "RmPunct(\"He said, that is great!!\")"
   ]
  },
  {
   "cell_type": "code",
   "execution_count": 212,
   "id": "6149fd6a",
   "metadata": {},
   "outputs": [
    {
     "data": {
      "text/plain": [
       "'He said that is great'"
      ]
     },
     "execution_count": 212,
     "metadata": {},
     "output_type": "execute_result"
    }
   ],
   "source": [
    "import string\n",
    "\n",
    "def RmPunct (s):    \n",
    "    table = str.maketrans(dict.fromkeys(string.punctuation))  # OR {key: None for key in string.punctuation}\n",
    "    new_s = s.translate(table)    \n",
    "    return new_s\n",
    "\n",
    "RmPunct(\"He said, that is great!!\")"
   ]
  },
  {
   "cell_type": "code",
   "execution_count": 797,
   "id": "e8513679",
   "metadata": {},
   "outputs": [
    {
     "data": {
      "text/plain": [
       "'He said that is great'"
      ]
     },
     "execution_count": 797,
     "metadata": {},
     "output_type": "execute_result"
    }
   ],
   "source": [
    "import string\n",
    "def RmPunct (s): \n",
    "    punc = '''!()-[]{};:'\"\\,<>./?@#$%^&*_~'''\n",
    "    for ele in s:\n",
    "        if ele in punc:\n",
    "            s = s.replace(ele, \"\")\n",
    "    \n",
    "    return s\n",
    "\n",
    "RmPunct(\"He said, that is great!!\")"
   ]
  },
  {
   "cell_type": "markdown",
   "id": "33365ad6",
   "metadata": {},
   "source": [
    "#### 29. N Grams\n",
    "Description   \n",
    "Build a function NGram which takes a string s and an integer n as inputs, returns a list of n grams of s.   \n",
    "\n",
    "Examples   \n",
    "NGram(\"techlent\", 2) returns [\"te\", \"ec\", \"ch\", \"hl\", \"le\", \"en\", \"nt\"]   \n",
    "NGram(\"abc\", 3) returns [\"abc\"]   \n",
    "NGram(\"abc\", 4) returns [   ]   \n",
    "NGram(\"abc\", 1) returns [\"a\", \"b\", \"c\"]   "
   ]
  },
  {
   "cell_type": "code",
   "execution_count": 241,
   "id": "3430ea78",
   "metadata": {},
   "outputs": [
    {
     "data": {
      "text/plain": [
       "['te', 'ec', 'ch', 'hl', 'le', 'en', 'nt']"
      ]
     },
     "execution_count": 241,
     "metadata": {},
     "output_type": "execute_result"
    }
   ],
   "source": [
    "# N Grams\n",
    "def NGram (s,n):\n",
    "    lst = []\n",
    "    for i in range(len(s)):\n",
    "        if i+n <= len(s):\n",
    "            lst.append(s[i:i+n])\n",
    "    return lst\n",
    "           \n",
    "NGram(\"techlent\", 2) "
   ]
  },
  {
   "cell_type": "code",
   "execution_count": 251,
   "id": "7b0a9277",
   "metadata": {},
   "outputs": [
    {
     "data": {
      "text/plain": [
       "[]"
      ]
     },
     "execution_count": 251,
     "metadata": {},
     "output_type": "execute_result"
    }
   ],
   "source": [
    "# NGram(\"abc\", 3)    # returns [\"abc\"]\n",
    "NGram(\"abc\", 4)      # returns [   ]\n",
    "# NGram(\"abc\", 1)    # returns [\"a\", \"b\", \"c\"]"
   ]
  },
  {
   "cell_type": "markdown",
   "id": "4ba45525",
   "metadata": {},
   "source": [
    "#### 30. Palindrome\n",
    "Description    \n",
    "Build a function isPalindrome which takes a string as an input and returns boolin value telling whether the string is a palindrome.\n",
    "\n",
    "sample   \n",
    "isPalindrome(\"abcba\") returns True   \n",
    "isPalindrome(\"abba\") returns True    \n",
    "isPalindrome(\"a\") returns True   \n",
    "isPalindrome(\"\") returns True    \n",
    "isPalindrome(\"abcd\") returns False    "
   ]
  },
  {
   "cell_type": "code",
   "execution_count": 252,
   "id": "222e48a0",
   "metadata": {},
   "outputs": [
    {
     "data": {
      "text/plain": [
       "True"
      ]
     },
     "execution_count": 252,
     "metadata": {},
     "output_type": "execute_result"
    }
   ],
   "source": [
    "# Palindrome\n",
    "# Build a function isPalindrome which takes a string as an input and returns boolin value \n",
    "# telling whether the string is a palindrome.\n",
    "\n",
    "# isPalindrome(\"abcba\") returns True\n",
    "# isPalindrome(\"abba\") returns True\n",
    "# isPalindrome(\"a\") returns True\n",
    "# isPalindrome(\"\") returns True\n",
    "# isPalindrome(\"abcd\") returns False\n",
    "\n",
    "def isPalindrome (strn):    \n",
    "    return strn[::-1] == strn\n",
    "    \n",
    "isPalindrome(\"abcba\")\n",
    "\n"
   ]
  },
  {
   "cell_type": "markdown",
   "id": "1d7fdd00",
   "metadata": {},
   "source": [
    "#### 31. Letter Palindrome\n",
    "Description\n",
    "Build a function LettPalind to determine a string is a palindrome or not. We only consider letters this time.\n",
    "\n",
    "Examples    \n",
    "LettPalind(\"909@,.\") returns True     \n",
    "LettPalind(\"He is Sieh!\") returns True     \n",
    "LettPalind(\"His name is Sieh.\") returns False    "
   ]
  },
  {
   "cell_type": "code",
   "execution_count": 325,
   "id": "28621b41",
   "metadata": {},
   "outputs": [
    {
     "data": {
      "text/plain": [
       "True"
      ]
     },
     "execution_count": 325,
     "metadata": {},
     "output_type": "execute_result"
    }
   ],
   "source": [
    "# Examples\n",
    "# LettPalind(\"909@,.\") returns True\n",
    "# LettPalind(\"He is Sieh!\") returns True\n",
    "# LettPalind(\"His name is Sieh.\") returns False\n",
    "\n",
    "import re\n",
    "def LettPalind(strn):\n",
    "    # remove puncuation\n",
    "    #     res = re.sub(r'[^\\w\\s]', '', strn) \n",
    "    # remove space\n",
    "    #     res = re.sub(r'[ ]', '', res)\n",
    "    # remove space\n",
    "    #     for ele in res:\n",
    "    #         if ele == \" \":\n",
    "    #             res = res.replace(ele, \"\")\n",
    "\n",
    "    # remove punctuation and space and special charactor\n",
    "    res = re.sub('[^A-Za-z0-9]+', '', strn).lower()\n",
    "    return  res == res[::-1]\n",
    "\n",
    "LettPalind(\"909@,.\") \n"
   ]
  },
  {
   "cell_type": "code",
   "execution_count": 282,
   "id": "58fbe0e5",
   "metadata": {},
   "outputs": [
    {
     "name": "stdout",
     "output_type": "stream",
     "text": [
      "['rasd', 'sa', 'sd']\n"
     ]
    }
   ],
   "source": [
    "import re\n",
    "a='rasd\\nsa sd'\n",
    "print(re.findall(r'[^\\s\\n\\t]+',a))\n",
    "# => [' ']"
   ]
  },
  {
   "cell_type": "markdown",
   "id": "fb58b535",
   "metadata": {},
   "source": [
    "#### 32. Valid Parenthesis\n",
    "Description    \n",
    "Build a function ValidParenthesis to determine the parenthesis in a string are valid.\n",
    "\n",
    "Examples    \n",
    "ValidParenthesis(\"((()))()\") returns True    \n",
    "ValidParenthesis(\"()()()\") returns True    \n",
    "ValidParenthesis(\"()()()(\") returns False    \n",
    "ValidParenthesis(\"((())))\") returns False    "
   ]
  },
  {
   "cell_type": "code",
   "execution_count": 336,
   "id": "a5b8e604",
   "metadata": {},
   "outputs": [
    {
     "data": {
      "text/plain": [
       "True"
      ]
     },
     "execution_count": 336,
     "metadata": {},
     "output_type": "execute_result"
    }
   ],
   "source": [
    "#### Valid Parenthesis\n",
    "# Description\n",
    "# Build a function ValidParenthesis to determine the parenthesis in a string are valid.\n",
    "\n",
    "# Examples\n",
    "# ValidParenthesis(\"((()))()\") returns True\n",
    "# ValidParenthesis(\"()()()\") returns True\n",
    "# ValidParenthesis(\"()()()(\") returns False\n",
    "# ValidParenthesis(\"((())))\") returns False\n",
    "\n",
    "def ValidParenthesis (strn):\n",
    "    count1 = 0\n",
    "    count2 = 0\n",
    "    for ele in strn:\n",
    "        if ele == '(':\n",
    "            count1 += 1\n",
    "        elif ele == ')':\n",
    "            count2 += 1\n",
    "        else:\n",
    "            pass\n",
    "    return count1 == count2\n",
    "    \n",
    "ValidParenthesis(\"((()))()\") \n",
    "\n"
   ]
  },
  {
   "cell_type": "markdown",
   "id": "694f8d7f",
   "metadata": {},
   "source": [
    "#### 33. Key Value Switch\n",
    "Description:    \n",
    "Build a function kvSwitch to switch the keys and values of a dictionary.    \n",
    "\n",
    "Examples:     \n",
    "kvSwitch({\"a\": \"1\", \"b\": \"2\", \"c\": \"3\"}) returns {\"1\": \"a\", \"2\": \"b\", \"3\": “c\"}     "
   ]
  },
  {
   "cell_type": "code",
   "execution_count": 430,
   "id": "8496b411",
   "metadata": {},
   "outputs": [
    {
     "data": {
      "text/plain": [
       "{'1': 'a', '2': 'b', '3': 'c'}"
      ]
     },
     "execution_count": 430,
     "metadata": {},
     "output_type": "execute_result"
    }
   ],
   "source": [
    "# Examples\n",
    "# kvSwitch({\"a\": \"1\", \"b\": \"2\", \"c\": \"3\"}) returns {\"1\": \"a\", \"2\": \"b\", \"3\": “c\"}\n",
    "                                                  \n",
    "def kvSwitch (d):\n",
    "#     print(d.keys(), d.values(), d.items())\n",
    "#     myDict = { k:v for (k,v) in zip(d.keys(), d.values())}  \n",
    "#     return  myDict       \n",
    "\n",
    "    Dict1 = {k:v for (k,v) in zip(d.values(), d.keys())}  \n",
    "    return  Dict1  \n",
    "                                                  \n",
    "kvSwitch({\"a\": \"1\", \"b\": \"2\", \"c\": \"3\"})                                                 "
   ]
  },
  {
   "cell_type": "markdown",
   "id": "0f0c75fc",
   "metadata": {},
   "source": [
    "#### 34. Rank Keys by Values\n",
    "Description:    \n",
    "Build a function RankK which takes a dictionary as input returns a list of keys which sorted by their values.\n",
    "\n",
    "Examples:    \n",
    "RankK({\"a\": 7, \"b\": 5, \"c\": 9}) returns [\"b\", \"a\", \"c\"]"
   ]
  },
  {
   "cell_type": "code",
   "execution_count": 432,
   "id": "65cd8036",
   "metadata": {},
   "outputs": [
    {
     "data": {
      "text/plain": [
       "['b', 'a', 'c']"
      ]
     },
     "execution_count": 432,
     "metadata": {},
     "output_type": "execute_result"
    }
   ],
   "source": [
    "# Examples\n",
    "# RankK({\"a\": 7, \"b\": 5, \"c\": 9}) returns [\"b\", \"a\", \"c\"]\n",
    "\n",
    "def RankK(d):  \n",
    "    MyDict = dict(sorted(d.items(), key=lambda x: x[1])) \n",
    "    return list(MyDict.keys())    \n",
    "    \n",
    "\n",
    "RankK({\"a\": 7, \"b\": 5, \"c\": 9}) \n",
    "\n",
    "# TypeError: 'dict' object is not callable while using dict( )\n",
    "# the issue is likely that you have a variable called dict. The solution to this would be to run:\n",
    "# del dict\n"
   ]
  },
  {
   "cell_type": "code",
   "execution_count": 433,
   "id": "3b880583",
   "metadata": {},
   "outputs": [
    {
     "name": "stdout",
     "output_type": "stream",
     "text": [
      "OrderedDict([('a', 7), ('b', 5), ('c', 9)])\n"
     ]
    }
   ],
   "source": [
    "# Creates a sorted dictionary (sorted by key)\n",
    "from collections import OrderedDict\n",
    "def RankK(d):  \n",
    "    dict1 = OrderedDict(sorted(d.items()))\n",
    "    print(dict1)\n",
    "\n",
    "RankK({\"a\": 7, \"b\": 5, \"c\": 9}) "
   ]
  },
  {
   "cell_type": "code",
   "execution_count": 438,
   "id": "2d3bf336",
   "metadata": {},
   "outputs": [
    {
     "name": "stdout",
     "output_type": "stream",
     "text": [
      "Without sort:  {'a': 7, 'b': 5, 'c': 9}\n",
      "After sort:  {'b': 5, 'a': 7, 'c': 9}\n",
      "<class 'dict'>\n"
     ]
    }
   ],
   "source": [
    "def RankK(d):  \n",
    "    print('Without sort: ', d)\n",
    "    sorted_mydict = dict(sorted(d.items(), key=lambda item: item[1]))\n",
    "    print('After sort: ', sorted_mydict)\n",
    "    print(type(sorted_mydict))\n",
    "\n",
    "RankK({\"a\": 7, \"b\": 5, \"c\": 9}) "
   ]
  },
  {
   "cell_type": "code",
   "execution_count": 429,
   "id": "fd423c44",
   "metadata": {},
   "outputs": [],
   "source": [
    "del dict"
   ]
  },
  {
   "cell_type": "markdown",
   "id": "334cd861",
   "metadata": {},
   "source": [
    "#### 35. Character Frequency\n",
    "Description:    \n",
    "Build a function ChaFreq to calculate the frequencies of characters in a string. Store the results in a dictionary.\n",
    "\n",
    "Examples:    \n",
    "ChaFreq(\"techlent\") returns {\"c\": 1, \"e\": 2, \"h\": 1, \"l\": 1, \"n\": 1, \"t\": 2}    "
   ]
  },
  {
   "cell_type": "code",
   "execution_count": 482,
   "id": "25faa894",
   "metadata": {},
   "outputs": [
    {
     "data": {
      "text/plain": [
       "{'c': 1, 'h': 1, 'l': 1, 'n': 1, 't': 2, 'e': 2}"
      ]
     },
     "execution_count": 482,
     "metadata": {},
     "output_type": "execute_result"
    }
   ],
   "source": [
    "# Character Frequency\n",
    "# Description\n",
    "# Build a function ChaFreq to calculate the frequencies of characters in a string. Store the results in a dictionary.\n",
    "\n",
    "# Examples\n",
    "# ChaFreq(\"techlent\") returns {\"c\": 1, \"e\": 2, \"h\": 1, \"l\": 1, \"n\": 1, \"t\": 2}\n",
    "\n",
    "def ChaFreq (strn):     \n",
    "#     for x in strn:\n",
    "#         k1.append(x)\n",
    "#     for x in strn:\n",
    "#         v1.append(strn.count(x)) \n",
    "\n",
    "    k1 = [x for x in strn]\n",
    "    v1 = [strn.count(y) for y in strn]       \n",
    " \n",
    "    Mydict = {k:v for (k,v) in zip(k1, v1)}\n",
    "    Sdict = dict(sorted(Mydict.items(), key=lambda y: y[1]))\n",
    "   \n",
    "    return Sdict   \n",
    "\n",
    "ChaFreq(\"techlent\")\n"
   ]
  },
  {
   "cell_type": "markdown",
   "id": "26591ed4",
   "metadata": {},
   "source": [
    "#### 36. Unique Only\n",
    "Description:    \n",
    "Build a function UniqueOnly to detect whether a string only contains unique characters.   \n",
    "\n",
    "Examples:    \n",
    "UniqueOnly(\"techlent\") returns False    \n",
    "UniqueOnly(\"abcde\") returns True    "
   ]
  },
  {
   "cell_type": "code",
   "execution_count": 519,
   "id": "f3dca119",
   "metadata": {},
   "outputs": [
    {
     "data": {
      "text/plain": [
       "False"
      ]
     },
     "execution_count": 519,
     "metadata": {},
     "output_type": "execute_result"
    }
   ],
   "source": [
    "# Unique Only\n",
    "# Description\n",
    "# Build a function UniqueOnly to detect whether a string only contains unique characters.\n",
    "\n",
    "# Examples\n",
    "# UniqueOnly(\"techlent\") returns False\n",
    "# UniqueOnly(\"abcde\") returns True\n",
    "\n",
    "def UniqueOnly(strn):\n",
    "    key1 = all([strn.count(x) == 1 for x in strn])\n",
    "    return key1\n",
    "\n",
    "UniqueOnly(\"techlent\")\n"
   ]
  },
  {
   "cell_type": "code",
   "execution_count": 510,
   "id": "d626faab",
   "metadata": {},
   "outputs": [
    {
     "name": "stdout",
     "output_type": "stream",
     "text": [
      "The original list is : [False, False, False, False]\n",
      "Is List completely false ? : True\n"
     ]
    }
   ],
   "source": [
    "# to check for False list \n",
    "# using naive method\n",
    "test_list = [False, False, False, False]\n",
    "  \n",
    "# printing original list\n",
    "print (\"The original list is : \" + str(test_list))\n",
    "  \n",
    "flag = 0  \n",
    "# using naive method \n",
    "# to check for False list \n",
    "for i in test_list :\n",
    "    if i == True :\n",
    "        flag = 1\n",
    "        break\n",
    "  \n",
    "# printing result\n",
    "print (\"Is List completely false ? : \" +  str(bool(not flag)))"
   ]
  },
  {
   "cell_type": "code",
   "execution_count": 512,
   "id": "4c266282",
   "metadata": {},
   "outputs": [
    {
     "name": "stdout",
     "output_type": "stream",
     "text": [
      "The original list is : [True, False, False, False]\n",
      "Is List completely false ? : False\n"
     ]
    }
   ],
   "source": [
    "# to check for False list \n",
    "# using all()\n",
    "test_list = [False, False, False, False]\n",
    "  \n",
    "# printing original list\n",
    "print (\"The original list is : \" + str(test_list))\n",
    "  \n",
    "flag = 0\n",
    "  \n",
    "# using all()\n",
    "# to check for False list \n",
    "res = all(not i for i in test_list)\n",
    "  \n",
    "# printing result\n",
    "print (\"Is List completely false ? : \" +  str(res))"
   ]
  },
  {
   "cell_type": "code",
   "execution_count": 520,
   "id": "1b09a81e",
   "metadata": {},
   "outputs": [
    {
     "name": "stdout",
     "output_type": "stream",
     "text": [
      "The original list is : [False, False, False, False]\n",
      "Is List completely false ? : True\n"
     ]
    }
   ],
   "source": [
    "# Python3 code to demonstrate \n",
    "# to check for False list \n",
    "# using any()\n",
    "  \n",
    "# initializing list  \n",
    "test_list = [False, False, False, False]\n",
    "  \n",
    "# printing original list\n",
    "print (\"The original list is : \" + str(test_list))\n",
    "  \n",
    "# using any()\n",
    "# to check for False list \n",
    "res = not any(test_list)\n",
    "  \n",
    "# printing result\n",
    "print (\"Is List completely false ? : \" +  str(res))"
   ]
  },
  {
   "cell_type": "markdown",
   "id": "d2f8d2f8",
   "metadata": {},
   "source": [
    "#### 37. Same Pattern\n",
    "Description:   \n",
    "Build a function SamePattern takes two strings as inputs and determines whether they are in the same pattern.\n",
    "\n",
    "Examples:    \n",
    "SamePattern(\"egg\", \"zoo\") returns True    \n",
    "SamePattern(\"abb\", \"ab\") returns False    \n",
    "SamePattern(\"hello\", \"agree\") returns False    \n",
    "SamePattern(\"aaa\", \"abc\") returns False   \n",
    "SamePattern(\"abc\", \"aaa\") returns False   "
   ]
  },
  {
   "cell_type": "code",
   "execution_count": 540,
   "id": "9646e1d6",
   "metadata": {},
   "outputs": [
    {
     "data": {
      "text/plain": [
       "True"
      ]
     },
     "execution_count": 540,
     "metadata": {},
     "output_type": "execute_result"
    }
   ],
   "source": [
    "# Same Pattern\n",
    "# Description\n",
    "# Build a function SamePattern takes two strings as inputs and determines whether they are in the same pattern.\n",
    "\n",
    "# Examples\n",
    "# SamePattern(\"egg\", \"zoo\") returns True\n",
    "# SamePattern(\"abb\", \"ab\") returns False\n",
    "# SamePattern(\"hello\", \"agree\") returns False\n",
    "# SamePattern(\"aaa\", \"abc\") returns False\n",
    "# SamePattern(\"abc\", \"aaa\") returns False\n",
    "\n",
    "def SamePattern(s1, s2):\n",
    "    if len(s1) == len(s2):\n",
    "        k1 = [s1.count(x1) for x1 in s1]\n",
    "        k2 = [s2.count(x2) for x2 in s2]\n",
    "        return k1 == k2\n",
    "    else:\n",
    "        return False      \n",
    "\n",
    "SamePattern(\"egg\", \"zoo\")\n",
    "\n"
   ]
  },
  {
   "cell_type": "markdown",
   "id": "f33d3e91",
   "metadata": {},
   "source": [
    "#### 38.  Anagrams\n",
    "Description: \n",
    "Build a function anagrams to determine whether two given strings are anagrams.\n",
    "\n",
    "Examples:    \n",
    "anagrams(\"abc\", \"cba\") returns True   \n",
    "anagrams(\"ab\", \"abc\") returns False   \n",
    "anagrams(\"abccba\", \"aabbbc\") returns False   "
   ]
  },
  {
   "cell_type": "code",
   "execution_count": 548,
   "id": "c9e7a297",
   "metadata": {},
   "outputs": [
    {
     "data": {
      "text/plain": [
       "True"
      ]
     },
     "execution_count": 548,
     "metadata": {},
     "output_type": "execute_result"
    }
   ],
   "source": [
    "# Anagrams\n",
    "# Description\n",
    "# Build a function anagrams to determine whether two given strings are anagrams.\n",
    "\n",
    "# Examples\n",
    "# anagrams(\"abc\", \"cba\") returns True\n",
    "# anagrams(\"ab\", \"abc\") returns False\n",
    "# anagrams(\"abccba\", \"aabbbc\") returns False\n",
    "\n",
    "def anagrams (s1, s2):\n",
    "    return s1 == s2[::-1]\n",
    "    \n",
    "anagrams(\"abc\", \"cba\") \n",
    "\n"
   ]
  },
  {
   "cell_type": "markdown",
   "id": "5bf1b29c",
   "metadata": {},
   "source": [
    "#### 39. Target Sum\n",
    "Description:  \n",
    "Build a function TargetSum which takes a list and a target number as inputs. If there are two numbers in the list whose sum equals to the target number, the function returns the indice of the two numbers in list, otherwise returns -1.\n",
    "\n",
    "Examples:   \n",
    "TargetSum([1, 2, 5, 9, 8, 11], 6) returns [0, 2] (1+5=6)   \n",
    "TargetSum([1, 2, 5, 9, 8, 11], 11) returns [1, 3]   \n",
    "TargetSum([1, 2, 5, 9, 8, 11], 5) returns -1   \n",
    "TargetSum([1, 2, 5, 9, 8, 11], 14) returns [2, 3]   "
   ]
  },
  {
   "cell_type": "code",
   "execution_count": 748,
   "id": "fba91ea0",
   "metadata": {},
   "outputs": [
    {
     "data": {
      "text/plain": [
       "[0, 2]"
      ]
     },
     "execution_count": 748,
     "metadata": {},
     "output_type": "execute_result"
    }
   ],
   "source": [
    "# Target Sum\n",
    "# Description\n",
    "# Build a function TargetSum which takes a list and a target number as inputs. \n",
    "# If there are two numbers in the list whose sum equals to the target number, \n",
    "# the function returns the indice of the two numbers in list, otherwise returns -1.\n",
    "\n",
    "def TargetSum (lst, n):\n",
    "    btest = False\n",
    "    key = [x for x in range(0,len(lst))]\n",
    "    dNum = {k:v for (k,v) in zip(key, lst)}\n",
    "           \n",
    "#     d = [k for k in dNum if v + dNum[k] == n]\n",
    "#     d = [k if (v + dNum[k] == n) else \"\" for k in dNum for v in dNum.values()]\n",
    "\n",
    "    for k,v in dNum.items():   \n",
    "        for i in range(k + 1, len(dNum)):        \n",
    "            if v + dNum[i] == n:\n",
    "                res = [k, i] \n",
    "                btest = True\n",
    "            else:\n",
    "                pass            \n",
    "          \n",
    "    return res if btest else -1\n",
    "    \n",
    "TargetSum([1, 2, 5, 9, 8, 11], 6)\n",
    "# TargetSum([1, 2, 5, 9, 8, 11], 11) \n",
    "# TargetSum([1, 2, 5, 9, 8, 11], 5) \n",
    "# TargetSum([1, 2, 5, 9, 8, 11], 14) \n"
   ]
  },
  {
   "cell_type": "code",
   "execution_count": null,
   "id": "3e4a93fb",
   "metadata": {},
   "outputs": [],
   "source": [
    "\n"
   ]
  },
  {
   "cell_type": "code",
   "execution_count": null,
   "id": "001f6352",
   "metadata": {},
   "outputs": [],
   "source": []
  },
  {
   "cell_type": "code",
   "execution_count": null,
   "id": "277b6020",
   "metadata": {},
   "outputs": [],
   "source": []
  },
  {
   "cell_type": "code",
   "execution_count": null,
   "id": "174c82fa",
   "metadata": {},
   "outputs": [],
   "source": []
  },
  {
   "cell_type": "code",
   "execution_count": null,
   "id": "7438c749",
   "metadata": {},
   "outputs": [],
   "source": []
  },
  {
   "cell_type": "code",
   "execution_count": null,
   "id": "73603e1d",
   "metadata": {},
   "outputs": [],
   "source": []
  },
  {
   "cell_type": "code",
   "execution_count": null,
   "id": "baa48b04",
   "metadata": {},
   "outputs": [],
   "source": []
  },
  {
   "cell_type": "code",
   "execution_count": null,
   "id": "0c83ed3d",
   "metadata": {},
   "outputs": [],
   "source": []
  }
 ],
 "metadata": {
  "kernelspec": {
   "display_name": "Python 3 (ipykernel)",
   "language": "python",
   "name": "python3"
  },
  "language_info": {
   "codemirror_mode": {
    "name": "ipython",
    "version": 3
   },
   "file_extension": ".py",
   "mimetype": "text/x-python",
   "name": "python",
   "nbconvert_exporter": "python",
   "pygments_lexer": "ipython3",
   "version": "3.9.7"
  }
 },
 "nbformat": 4,
 "nbformat_minor": 5
}
